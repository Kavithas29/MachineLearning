{
 "cells": [
  {
   "cell_type": "code",
   "execution_count": 175,
   "id": "ce917878",
   "metadata": {},
   "outputs": [],
   "source": [
    "import numpy as np\n",
    "import pandas as pd\n",
    "import matplotlib.pyplot as plt\n",
    "import seaborn as sns\n",
    "from sklearn.linear_model import LinearRegression,LogisticRegression,Lasso, Ridge, ElasticNet\n",
    "from sklearn.preprocessing import StandardScaler,LabelEncoder\n",
    "from sklearn.metrics import mean_squared_error, mean_absolute_error, r2_score\n",
    "from sklearn.model_selection import train_test_split, KFold, cross_val_score\n"
   ]
  },
  {
   "cell_type": "markdown",
   "id": "4f6cab3a",
   "metadata": {},
   "source": [
    "Problem Statement: "
   ]
  },
  {
   "cell_type": "code",
   "execution_count": 176,
   "id": "d6a23b7e",
   "metadata": {},
   "outputs": [],
   "source": [
    "data=pd.read_csv(\"bike_share.csv\")"
   ]
  },
  {
   "cell_type": "markdown",
   "id": "cd1c98dd",
   "metadata": {},
   "source": [
    "Understanding data"
   ]
  },
  {
   "cell_type": "code",
   "execution_count": 177,
   "id": "4392ebf9",
   "metadata": {},
   "outputs": [
    {
     "data": {
      "text/html": [
       "<div>\n",
       "<style scoped>\n",
       "    .dataframe tbody tr th:only-of-type {\n",
       "        vertical-align: middle;\n",
       "    }\n",
       "\n",
       "    .dataframe tbody tr th {\n",
       "        vertical-align: top;\n",
       "    }\n",
       "\n",
       "    .dataframe thead th {\n",
       "        text-align: right;\n",
       "    }\n",
       "</style>\n",
       "<table border=\"1\" class=\"dataframe\">\n",
       "  <thead>\n",
       "    <tr style=\"text-align: right;\">\n",
       "      <th></th>\n",
       "      <th>season</th>\n",
       "      <th>holiday</th>\n",
       "      <th>workingday</th>\n",
       "      <th>weather</th>\n",
       "      <th>temp</th>\n",
       "      <th>atemp</th>\n",
       "      <th>humidity</th>\n",
       "      <th>windspeed</th>\n",
       "      <th>casual</th>\n",
       "      <th>registered</th>\n",
       "      <th>count</th>\n",
       "    </tr>\n",
       "  </thead>\n",
       "  <tbody>\n",
       "    <tr>\n",
       "      <th>0</th>\n",
       "      <td>1</td>\n",
       "      <td>0</td>\n",
       "      <td>0</td>\n",
       "      <td>1</td>\n",
       "      <td>9.84</td>\n",
       "      <td>14.395</td>\n",
       "      <td>81</td>\n",
       "      <td>0.0</td>\n",
       "      <td>3</td>\n",
       "      <td>13</td>\n",
       "      <td>16</td>\n",
       "    </tr>\n",
       "    <tr>\n",
       "      <th>1</th>\n",
       "      <td>1</td>\n",
       "      <td>0</td>\n",
       "      <td>0</td>\n",
       "      <td>1</td>\n",
       "      <td>9.02</td>\n",
       "      <td>13.635</td>\n",
       "      <td>80</td>\n",
       "      <td>0.0</td>\n",
       "      <td>8</td>\n",
       "      <td>32</td>\n",
       "      <td>40</td>\n",
       "    </tr>\n",
       "    <tr>\n",
       "      <th>2</th>\n",
       "      <td>1</td>\n",
       "      <td>0</td>\n",
       "      <td>0</td>\n",
       "      <td>1</td>\n",
       "      <td>9.02</td>\n",
       "      <td>13.635</td>\n",
       "      <td>80</td>\n",
       "      <td>0.0</td>\n",
       "      <td>5</td>\n",
       "      <td>27</td>\n",
       "      <td>32</td>\n",
       "    </tr>\n",
       "    <tr>\n",
       "      <th>3</th>\n",
       "      <td>1</td>\n",
       "      <td>0</td>\n",
       "      <td>0</td>\n",
       "      <td>1</td>\n",
       "      <td>9.84</td>\n",
       "      <td>14.395</td>\n",
       "      <td>75</td>\n",
       "      <td>0.0</td>\n",
       "      <td>3</td>\n",
       "      <td>10</td>\n",
       "      <td>13</td>\n",
       "    </tr>\n",
       "    <tr>\n",
       "      <th>4</th>\n",
       "      <td>1</td>\n",
       "      <td>0</td>\n",
       "      <td>0</td>\n",
       "      <td>1</td>\n",
       "      <td>9.84</td>\n",
       "      <td>14.395</td>\n",
       "      <td>75</td>\n",
       "      <td>0.0</td>\n",
       "      <td>0</td>\n",
       "      <td>1</td>\n",
       "      <td>1</td>\n",
       "    </tr>\n",
       "  </tbody>\n",
       "</table>\n",
       "</div>"
      ],
      "text/plain": [
       "   season  holiday  workingday  weather  temp   atemp  humidity  windspeed  \\\n",
       "0       1        0           0        1  9.84  14.395        81        0.0   \n",
       "1       1        0           0        1  9.02  13.635        80        0.0   \n",
       "2       1        0           0        1  9.02  13.635        80        0.0   \n",
       "3       1        0           0        1  9.84  14.395        75        0.0   \n",
       "4       1        0           0        1  9.84  14.395        75        0.0   \n",
       "\n",
       "   casual  registered  count  \n",
       "0       3          13     16  \n",
       "1       8          32     40  \n",
       "2       5          27     32  \n",
       "3       3          10     13  \n",
       "4       0           1      1  "
      ]
     },
     "execution_count": 177,
     "metadata": {},
     "output_type": "execute_result"
    }
   ],
   "source": [
    "data.head(5)"
   ]
  },
  {
   "cell_type": "code",
   "execution_count": 178,
   "id": "a996a42f",
   "metadata": {},
   "outputs": [
    {
     "data": {
      "text/plain": [
       "(10886, 11)"
      ]
     },
     "execution_count": 178,
     "metadata": {},
     "output_type": "execute_result"
    }
   ],
   "source": [
    "data.shape"
   ]
  },
  {
   "cell_type": "code",
   "execution_count": 179,
   "id": "d704393a",
   "metadata": {},
   "outputs": [
    {
     "data": {
      "text/plain": [
       "21"
      ]
     },
     "execution_count": 179,
     "metadata": {},
     "output_type": "execute_result"
    }
   ],
   "source": [
    "data.duplicated().sum()"
   ]
  },
  {
   "cell_type": "code",
   "execution_count": 180,
   "id": "479c4fa0",
   "metadata": {},
   "outputs": [],
   "source": [
    "data.drop_duplicates(inplace=True)"
   ]
  },
  {
   "cell_type": "code",
   "execution_count": 181,
   "id": "a920dd1d",
   "metadata": {},
   "outputs": [
    {
     "data": {
      "text/plain": [
       "0"
      ]
     },
     "execution_count": 181,
     "metadata": {},
     "output_type": "execute_result"
    }
   ],
   "source": [
    "data.duplicated().sum()"
   ]
  },
  {
   "cell_type": "code",
   "execution_count": 182,
   "id": "ae2d19b5",
   "metadata": {},
   "outputs": [
    {
     "data": {
      "text/plain": [
       "season        0\n",
       "holiday       0\n",
       "workingday    0\n",
       "weather       0\n",
       "temp          0\n",
       "atemp         0\n",
       "humidity      0\n",
       "windspeed     0\n",
       "casual        0\n",
       "registered    0\n",
       "count         0\n",
       "dtype: int64"
      ]
     },
     "execution_count": 182,
     "metadata": {},
     "output_type": "execute_result"
    }
   ],
   "source": [
    "data.isna().sum()"
   ]
  },
  {
   "cell_type": "code",
   "execution_count": 183,
   "id": "fa89f98e",
   "metadata": {},
   "outputs": [
    {
     "data": {
      "text/plain": [
       "season        0.163241\n",
       "holiday      -0.005743\n",
       "workingday    0.011967\n",
       "weather      -0.129427\n",
       "temp          0.393577\n",
       "atemp         0.389005\n",
       "humidity     -0.317337\n",
       "windspeed     0.100212\n",
       "casual        0.690036\n",
       "registered    0.970890\n",
       "count         1.000000\n",
       "Name: count, dtype: float64"
      ]
     },
     "execution_count": 183,
     "metadata": {},
     "output_type": "execute_result"
    }
   ],
   "source": [
    "data.corr()['count']"
   ]
  },
  {
   "cell_type": "code",
   "execution_count": 184,
   "id": "af77a0a6",
   "metadata": {},
   "outputs": [
    {
     "data": {
      "text/html": [
       "<div>\n",
       "<style scoped>\n",
       "    .dataframe tbody tr th:only-of-type {\n",
       "        vertical-align: middle;\n",
       "    }\n",
       "\n",
       "    .dataframe tbody tr th {\n",
       "        vertical-align: top;\n",
       "    }\n",
       "\n",
       "    .dataframe thead th {\n",
       "        text-align: right;\n",
       "    }\n",
       "</style>\n",
       "<table border=\"1\" class=\"dataframe\">\n",
       "  <thead>\n",
       "    <tr style=\"text-align: right;\">\n",
       "      <th></th>\n",
       "      <th>season</th>\n",
       "      <th>holiday</th>\n",
       "      <th>workingday</th>\n",
       "      <th>weather</th>\n",
       "      <th>temp</th>\n",
       "      <th>atemp</th>\n",
       "      <th>humidity</th>\n",
       "      <th>windspeed</th>\n",
       "      <th>casual</th>\n",
       "      <th>registered</th>\n",
       "      <th>count</th>\n",
       "    </tr>\n",
       "  </thead>\n",
       "  <tbody>\n",
       "    <tr>\n",
       "      <th>season</th>\n",
       "      <td>1.000000</td>\n",
       "      <td>0.029315</td>\n",
       "      <td>-0.008394</td>\n",
       "      <td>0.008603</td>\n",
       "      <td>0.258008</td>\n",
       "      <td>0.264052</td>\n",
       "      <td>0.189819</td>\n",
       "      <td>-0.147440</td>\n",
       "      <td>0.096536</td>\n",
       "      <td>0.163820</td>\n",
       "      <td>0.163241</td>\n",
       "    </tr>\n",
       "    <tr>\n",
       "      <th>holiday</th>\n",
       "      <td>0.029315</td>\n",
       "      <td>1.000000</td>\n",
       "      <td>-0.250650</td>\n",
       "      <td>-0.007172</td>\n",
       "      <td>-0.000020</td>\n",
       "      <td>-0.005512</td>\n",
       "      <td>0.002048</td>\n",
       "      <td>0.008190</td>\n",
       "      <td>0.043584</td>\n",
       "      <td>-0.021311</td>\n",
       "      <td>-0.005743</td>\n",
       "    </tr>\n",
       "    <tr>\n",
       "      <th>workingday</th>\n",
       "      <td>-0.008394</td>\n",
       "      <td>-0.250650</td>\n",
       "      <td>1.000000</td>\n",
       "      <td>0.033854</td>\n",
       "      <td>0.030122</td>\n",
       "      <td>0.024722</td>\n",
       "      <td>-0.011607</td>\n",
       "      <td>0.014285</td>\n",
       "      <td>-0.319295</td>\n",
       "      <td>0.120018</td>\n",
       "      <td>0.011967</td>\n",
       "    </tr>\n",
       "    <tr>\n",
       "      <th>weather</th>\n",
       "      <td>0.008603</td>\n",
       "      <td>-0.007172</td>\n",
       "      <td>0.033854</td>\n",
       "      <td>1.000000</td>\n",
       "      <td>-0.055684</td>\n",
       "      <td>-0.056001</td>\n",
       "      <td>0.406642</td>\n",
       "      <td>0.007071</td>\n",
       "      <td>-0.136453</td>\n",
       "      <td>-0.110057</td>\n",
       "      <td>-0.129427</td>\n",
       "    </tr>\n",
       "    <tr>\n",
       "      <th>temp</th>\n",
       "      <td>0.258008</td>\n",
       "      <td>-0.000020</td>\n",
       "      <td>0.030122</td>\n",
       "      <td>-0.055684</td>\n",
       "      <td>1.000000</td>\n",
       "      <td>0.984920</td>\n",
       "      <td>-0.065301</td>\n",
       "      <td>-0.018937</td>\n",
       "      <td>0.466756</td>\n",
       "      <td>0.317530</td>\n",
       "      <td>0.393577</td>\n",
       "    </tr>\n",
       "    <tr>\n",
       "      <th>atemp</th>\n",
       "      <td>0.264052</td>\n",
       "      <td>-0.005512</td>\n",
       "      <td>0.024722</td>\n",
       "      <td>-0.056001</td>\n",
       "      <td>0.984920</td>\n",
       "      <td>1.000000</td>\n",
       "      <td>-0.043934</td>\n",
       "      <td>-0.058440</td>\n",
       "      <td>0.461769</td>\n",
       "      <td>0.313697</td>\n",
       "      <td>0.389005</td>\n",
       "    </tr>\n",
       "    <tr>\n",
       "      <th>humidity</th>\n",
       "      <td>0.189819</td>\n",
       "      <td>0.002048</td>\n",
       "      <td>-0.011607</td>\n",
       "      <td>0.406642</td>\n",
       "      <td>-0.065301</td>\n",
       "      <td>-0.043934</td>\n",
       "      <td>1.000000</td>\n",
       "      <td>-0.317920</td>\n",
       "      <td>-0.348238</td>\n",
       "      <td>-0.265321</td>\n",
       "      <td>-0.317337</td>\n",
       "    </tr>\n",
       "    <tr>\n",
       "      <th>windspeed</th>\n",
       "      <td>-0.147440</td>\n",
       "      <td>0.008190</td>\n",
       "      <td>0.014285</td>\n",
       "      <td>0.007071</td>\n",
       "      <td>-0.018937</td>\n",
       "      <td>-0.058440</td>\n",
       "      <td>-0.317920</td>\n",
       "      <td>1.000000</td>\n",
       "      <td>0.091474</td>\n",
       "      <td>0.089907</td>\n",
       "      <td>0.100212</td>\n",
       "    </tr>\n",
       "    <tr>\n",
       "      <th>casual</th>\n",
       "      <td>0.096536</td>\n",
       "      <td>0.043584</td>\n",
       "      <td>-0.319295</td>\n",
       "      <td>-0.136453</td>\n",
       "      <td>0.466756</td>\n",
       "      <td>0.461769</td>\n",
       "      <td>-0.348238</td>\n",
       "      <td>0.091474</td>\n",
       "      <td>1.000000</td>\n",
       "      <td>0.496587</td>\n",
       "      <td>0.690036</td>\n",
       "    </tr>\n",
       "    <tr>\n",
       "      <th>registered</th>\n",
       "      <td>0.163820</td>\n",
       "      <td>-0.021311</td>\n",
       "      <td>0.120018</td>\n",
       "      <td>-0.110057</td>\n",
       "      <td>0.317530</td>\n",
       "      <td>0.313697</td>\n",
       "      <td>-0.265321</td>\n",
       "      <td>0.089907</td>\n",
       "      <td>0.496587</td>\n",
       "      <td>1.000000</td>\n",
       "      <td>0.970890</td>\n",
       "    </tr>\n",
       "    <tr>\n",
       "      <th>count</th>\n",
       "      <td>0.163241</td>\n",
       "      <td>-0.005743</td>\n",
       "      <td>0.011967</td>\n",
       "      <td>-0.129427</td>\n",
       "      <td>0.393577</td>\n",
       "      <td>0.389005</td>\n",
       "      <td>-0.317337</td>\n",
       "      <td>0.100212</td>\n",
       "      <td>0.690036</td>\n",
       "      <td>0.970890</td>\n",
       "      <td>1.000000</td>\n",
       "    </tr>\n",
       "  </tbody>\n",
       "</table>\n",
       "</div>"
      ],
      "text/plain": [
       "              season   holiday  workingday   weather      temp     atemp  \\\n",
       "season      1.000000  0.029315   -0.008394  0.008603  0.258008  0.264052   \n",
       "holiday     0.029315  1.000000   -0.250650 -0.007172 -0.000020 -0.005512   \n",
       "workingday -0.008394 -0.250650    1.000000  0.033854  0.030122  0.024722   \n",
       "weather     0.008603 -0.007172    0.033854  1.000000 -0.055684 -0.056001   \n",
       "temp        0.258008 -0.000020    0.030122 -0.055684  1.000000  0.984920   \n",
       "atemp       0.264052 -0.005512    0.024722 -0.056001  0.984920  1.000000   \n",
       "humidity    0.189819  0.002048   -0.011607  0.406642 -0.065301 -0.043934   \n",
       "windspeed  -0.147440  0.008190    0.014285  0.007071 -0.018937 -0.058440   \n",
       "casual      0.096536  0.043584   -0.319295 -0.136453  0.466756  0.461769   \n",
       "registered  0.163820 -0.021311    0.120018 -0.110057  0.317530  0.313697   \n",
       "count       0.163241 -0.005743    0.011967 -0.129427  0.393577  0.389005   \n",
       "\n",
       "            humidity  windspeed    casual  registered     count  \n",
       "season      0.189819  -0.147440  0.096536    0.163820  0.163241  \n",
       "holiday     0.002048   0.008190  0.043584   -0.021311 -0.005743  \n",
       "workingday -0.011607   0.014285 -0.319295    0.120018  0.011967  \n",
       "weather     0.406642   0.007071 -0.136453   -0.110057 -0.129427  \n",
       "temp       -0.065301  -0.018937  0.466756    0.317530  0.393577  \n",
       "atemp      -0.043934  -0.058440  0.461769    0.313697  0.389005  \n",
       "humidity    1.000000  -0.317920 -0.348238   -0.265321 -0.317337  \n",
       "windspeed  -0.317920   1.000000  0.091474    0.089907  0.100212  \n",
       "casual     -0.348238   0.091474  1.000000    0.496587  0.690036  \n",
       "registered -0.265321   0.089907  0.496587    1.000000  0.970890  \n",
       "count      -0.317337   0.100212  0.690036    0.970890  1.000000  "
      ]
     },
     "execution_count": 184,
     "metadata": {},
     "output_type": "execute_result"
    }
   ],
   "source": [
    "data.corr()"
   ]
  },
  {
   "cell_type": "code",
   "execution_count": 185,
   "id": "8c4b5101",
   "metadata": {},
   "outputs": [],
   "source": [
    "def linear_best_fit(x,y):\n",
    "    model=LinearRegression()\n",
    "    model.fit(x,y)\n",
    "    y_pred=model.predict(x) \n",
    "    print(\"MSE : \",mean_squared_error(y,y_pred))\n",
    "    print(\"MAE : \",mean_absolute_error(y,y_pred))\n",
    "    print(\"RMSE : \",np.sqrt(mean_squared_error(y,y_pred)))\n",
    "    print(\"MAPE : \",mean_absolute_percentage_error(y,y_pred))\n",
    "def mean_absolute_percentage_error(y, y_pred): \n",
    "    y, y_pred = np.array(y), np.array(y_pred)\n",
    "    return np.mean(np.abs((y - y_pred) / y)) * 100    \n"
   ]
  },
  {
   "cell_type": "code",
   "execution_count": 186,
   "id": "1d31d714",
   "metadata": {},
   "outputs": [],
   "source": [
    "y=data['count']"
   ]
  },
  {
   "cell_type": "code",
   "execution_count": 187,
   "id": "77222308",
   "metadata": {},
   "outputs": [],
   "source": [
    "x=data[['season','temp','atemp','casual']]"
   ]
  },
  {
   "cell_type": "code",
   "execution_count": 188,
   "id": "dd05c8f8",
   "metadata": {},
   "outputs": [],
   "source": [
    "###x=data[data.drop(columns=['atemp','weather','holiday','humidity'],inplace=True)]"
   ]
  },
  {
   "cell_type": "code",
   "execution_count": 189,
   "id": "bb2e8abc",
   "metadata": {},
   "outputs": [
    {
     "data": {
      "text/plain": [
       "(pandas.core.frame.DataFrame, pandas.core.series.Series)"
      ]
     },
     "execution_count": 189,
     "metadata": {},
     "output_type": "execute_result"
    }
   ],
   "source": [
    "type(x),type(y)"
   ]
  },
  {
   "cell_type": "code",
   "execution_count": 198,
   "id": "9431517b",
   "metadata": {},
   "outputs": [
    {
     "name": "stdout",
     "output_type": "stream",
     "text": [
      "MSE :  16760.547107422546\n",
      "MAE :  91.2618940892599\n",
      "RMSE :  129.46253167392697\n",
      "MAPE :  377.3454366558312\n"
     ]
    }
   ],
   "source": [
    "linear_best_fit(x,y)"
   ]
  },
  {
   "cell_type": "code",
   "execution_count": 202,
   "id": "1ea9cbfa",
   "metadata": {},
   "outputs": [
    {
     "data": {
      "text/plain": [
       "<matplotlib.collections.PathCollection at 0x1759ccb2940>"
      ]
     },
     "execution_count": 202,
     "metadata": {},
     "output_type": "execute_result"
    },
    {
     "data": {
      "image/png": "[encoded data removed]",
      "text/plain": [
       "<Figure size 432x288 with 1 Axes>"
      ]
     },
     "metadata": {
      "needs_background": "light"
     },
     "output_type": "display_data"
    }
   ],
   "source": [
    "model=LinearRegression()\n",
    "model.fit(x,y)\n",
    "y_pred=model.predict(x) \n",
    "plt.xlabel(\"Actual  Registered Count\")\n",
    "plt.ylabel(\" Predicted registered count\")\n",
    "\n",
    "plt.scatter(y, y_pred)"
   ]
  },
  {
   "cell_type": "code",
   "execution_count": 205,
   "id": "0a1c0788",
   "metadata": {},
   "outputs": [
    {
     "data": {
      "text/plain": [
       "<seaborn.axisgrid.FacetGrid at 0x1759b06a6a0>"
      ]
     },
     "execution_count": 205,
     "metadata": {},
     "output_type": "execute_result"
    },
    {
     "data": {
      "image/png": "[encoded data removed]",
      "text/plain": [
       "<Figure size 360x360 with 1 Axes>"
      ]
     },
     "metadata": {
      "needs_background": "light"
     },
     "output_type": "display_data"
    }
   ],
   "source": [
    "error=y-y_pred\n",
    "sns.displot(error)"
   ]
  },
  {
   "cell_type": "code",
   "execution_count": 209,
   "id": "84c10cea",
   "metadata": {},
   "outputs": [
    {
     "data": {
      "text/plain": [
       "<matplotlib.collections.PathCollection at 0x1759d996ca0>"
      ]
     },
     "execution_count": 209,
     "metadata": {},
     "output_type": "execute_result"
    },
    {
     "data": {
      "image/png": "[encoded data removed]",
      "text/plain": [
       "<Figure size 432x288 with 1 Axes>"
      ]
     },
     "metadata": {
      "needs_background": "light"
     },
     "output_type": "display_data"
    }
   ],
   "source": [
    "plt.scatter(y_pred,error)"
   ]
  },
  {
   "cell_type": "code",
   "execution_count": null,
   "id": "08c5b5e1",
   "metadata": {},
   "outputs": [],
   "source": []
  }
 ],
 "metadata": {
  "kernelspec": {
   "display_name": "Python 3",
   "language": "python",
   "name": "python3"
  },
  "language_info": {
   "codemirror_mode": {
    "name": "ipython",
    "version": 3
   },
   "file_extension": ".py",
   "mimetype": "text/x-python",
   "name": "python",
   "nbconvert_exporter": "python",
   "pygments_lexer": "ipython3",
   "version": "3.8.8"
  }
 },
 "nbformat": 4,
 "nbformat_minor": 5
}
